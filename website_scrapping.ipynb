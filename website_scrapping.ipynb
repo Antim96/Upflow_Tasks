{
 "cells": [
  {
   "cell_type": "code",
   "execution_count": 10,
   "metadata": {},
   "outputs": [
    {
     "ename": "TypeError",
     "evalue": "'str' object is not callable",
     "output_type": "error",
     "traceback": [
      "\u001b[1;31m---------------------------------------------------------------------------\u001b[0m",
      "\u001b[1;31mTypeError\u001b[0m                                 Traceback (most recent call last)",
      "\u001b[1;32m<ipython-input-10-61503b512341>\u001b[0m in \u001b[0;36m<module>\u001b[1;34m\u001b[0m\n\u001b[1;32m----> 1\u001b[1;33m \u001b[0mres\u001b[0m\u001b[1;33m.\u001b[0m\u001b[0mencoding\u001b[0m\u001b[1;33m(\u001b[0m\u001b[1;33m)\u001b[0m\u001b[1;33m\u001b[0m\u001b[1;33m\u001b[0m\u001b[0m\n\u001b[0m",
      "\u001b[1;31mTypeError\u001b[0m: 'str' object is not callable"
     ]
    }
   ],
   "source": []
  },
  {
   "cell_type": "code",
   "execution_count": 2,
   "metadata": {},
   "outputs": [],
   "source": [
    "# -*- coding: utf-8 -*-\n",
    "\"\"\"\n",
    "Created on Fri Mar  5 18:20:06 2021\n",
    "\n",
    "@author: Antimony\n",
    "\"\"\"\n",
    "\n",
    "import requests\n",
    "import bs4\n",
    "import pandas as pd\n",
    "res = requests.get('http://media.lesechos.fr/infographie/champions_croissance_2019/')\n",
    "table = bs4.BeautifulSoup(res.text, 'lxml')\n",
    "extract = table.select('table')\n",
    "output_rows = []\n",
    "   \n",
    "for table_row in table.findAll('tr'):\n",
    "    \n",
    "    columnsTd = table_row.findAll('td')\n",
    "    columnsTh = table_row.findAll('th')\n",
    "    output_row = []\n",
    "    for column in columnsTh:\n",
    "        output_row.append(column.text.encode('latin-1').decode('utf-8'))\n",
    "    for column in columnsTd:\n",
    "        output_row.append(column.text.encode('latin-1').decode('utf-8'))\n",
    "    output_rows.append(output_row)\n",
    "    \n",
    "df = pd.DataFrame(output_rows)\n",
    "df.to_excel('companyList.xlsx', index = False)"
   ]
  },
  {
   "cell_type": "code",
   "execution_count": null,
   "metadata": {},
   "outputs": [],
   "source": []
  }
 ],
 "metadata": {
  "kernelspec": {
   "display_name": "Python 3",
   "language": "python",
   "name": "python3"
  },
  "language_info": {
   "codemirror_mode": {
    "name": "ipython",
    "version": 3
   },
   "file_extension": ".py",
   "mimetype": "text/x-python",
   "name": "python",
   "nbconvert_exporter": "python",
   "pygments_lexer": "ipython3",
   "version": "3.8.3"
  }
 },
 "nbformat": 4,
 "nbformat_minor": 4
}
